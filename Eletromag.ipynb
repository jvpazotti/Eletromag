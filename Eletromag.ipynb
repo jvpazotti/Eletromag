{
 "cells": [
  {
   "cell_type": "code",
   "execution_count": 89,
   "id": "c20d94d4-b236-4e55-b6d5-ac37b892a454",
   "metadata": {},
   "outputs": [],
   "source": [
    "from cmath import *\n",
    "from math import *\n",
    "import numpy as np\n",
    "from numpy import linalg"
   ]
  },
  {
   "cell_type": "markdown",
   "id": "efe00288-c3de-438a-9870-fcfdec02fc5b",
   "metadata": {},
   "source": [
    "<h1>Constantes</h1>"
   ]
  },
  {
   "cell_type": "code",
   "execution_count": null,
   "id": "7ec0d4df-b470-46ed-872b-8d4d67b7ab50",
   "metadata": {},
   "outputs": [],
   "source": [
    "uo=4*pi*1e-7\n",
    "c=3e8\n",
    "eo=8.85e-12\n",
    "vsom=340"
   ]
  },
  {
   "cell_type": "markdown",
   "id": "b93e5d7f-b64c-472d-95d4-49b4a7bdf1c6",
   "metadata": {},
   "source": [
    "<h1>DOPPLER</h1>"
   ]
  },
  {
   "cell_type": "code",
   "execution_count": 90,
   "id": "062343bb-b513-48f4-92cf-977356ca07fa",
   "metadata": {},
   "outputs": [],
   "source": [
    "#Usar quando tem delta_f,f,v constante, e a fonte tem que estar PARADA inicialmente \n",
    "#e nao tem a velocidade desejada do objeto em movimento.\n",
    "def doppler_vel(f,vk,delta_f,aprox,theta=0):\n",
    "    \n",
    "    fll=delta_f+f\n",
    "    \n",
    "    k=fll/f\n",
    "    \n",
    "    ang_rad=radians(theta)\n",
    "    \n",
    "    if aprox==True:\n",
    "    \n",
    "        num=vk*(k-1)\n",
    "\n",
    "\n",
    "        den=cos(ang_rad)*k+cos(ang_rad)\n",
    "\n",
    "        vel=num/den\n",
    "        \n",
    "        \n",
    "    elif aprox==False:\n",
    "        \n",
    "        num=-vk*(k-1)\n",
    "\n",
    "\n",
    "        den=cos(ang_rad)*k+cos(ang_rad)\n",
    "\n",
    "        vel=num/den\n",
    "        \n",
    "    \n",
    "    return vel\n",
    "        \n",
    "    \n",
    "#Usar quando FONTE estiver PARADA, e RECEPTOR em MOVIMENTO no instante inicial \n",
    "def doppler_freq(f,vk,v,aprox,theta=0):\n",
    "    \n",
    "    ang_rad=radians(theta)\n",
    "    \n",
    "    if aprox==False:\n",
    "\n",
    "        num=f*(vk-v*cos(ang_rad))\n",
    "\n",
    "        den=vk+v*cos(ang_rad)\n",
    "\n",
    "        fll=num/den\n",
    "        \n",
    "    if aprox==True:\n",
    "\n",
    "        num=f*(vk+v*cos(ang_rad))\n",
    "\n",
    "        den=vk-v*cos(ang_rad)\n",
    "\n",
    "        fll=num/den\n",
    "        \n",
    "    \n",
    "    return fll\n",
    "\n"
   ]
  },
  {
   "cell_type": "code",
   "execution_count": 91,
   "id": "4b4510fe-54c6-44b6-9917-b2a374b98bc6",
   "metadata": {},
   "outputs": [
    {
     "data": {
      "text/plain": [
       "999888.0141102222"
      ]
     },
     "execution_count": 91,
     "metadata": {},
     "output_type": "execute_result"
    }
   ],
   "source": [
    "f=1e6\n",
    "v=1500\n",
    "delta=140\n",
    "\n",
    "v1=doppler_vel(f,v,delta,True,0)\n",
    "v1\n",
    "\n",
    "v2=0.8*v1\n",
    "fllb=doppler_freq(f,v,v2,False,0)\n",
    "fllb"
   ]
  },
  {
   "cell_type": "markdown",
   "id": "4db954cf-eac5-4950-82b5-24a656345a80",
   "metadata": {},
   "source": [
    "<h1>ONDULATÓRIA</h1>"
   ]
  },
  {
   "cell_type": "code",
   "execution_count": null,
   "id": "57139018-0160-4da5-bfc9-35e3dbdafee2",
   "metadata": {},
   "outputs": [],
   "source": []
  },
  {
   "cell_type": "markdown",
   "id": "ea1c0d85-a83f-4cea-a095-5650d6ec265d",
   "metadata": {},
   "source": [
    "<h1>Transformador e Fasor</h1>\n"
   ]
  },
  {
   "cell_type": "code",
   "execution_count": 3,
   "id": "fb00c5b3-17a0-4659-8d83-0fa628a745fd",
   "metadata": {},
   "outputs": [],
   "source": [
    "def CalcularTransformador(V1, Rc):\n",
    "    Z=np.array([[R1+XL1+XC1, -XM],[-XM, XL2+R2+((Rc*XC2)/(Rc+XC2))]])\n",
    "    V=np.array([V1,0])\n",
    "    I=np.dot(linalg.inv(Z),V)\n",
    "    return I[0], I[1]\n",
    "\n",
    "def pot(U,I):\n",
    "    \n",
    "    Ief=I/sqrt(2)\n",
    "    Uef=U/sqrt(2)\n",
    "    \n",
    "    S=Uef*Ief.conjugate()\n",
    "    \n",
    "    return S\n",
    "\n",
    "def imp_l(l):\n",
    "    \n",
    "    return 1j*w*l\n",
    "\n",
    "def imp_c(c):\n",
    "    \n",
    "    return 1/(1j*w*c)\n",
    "\n",
    "\n",
    "def formata_polar(n):\n",
    "    \n",
    "    print(abs(n),degrees(phase(n)))\n",
    "    \n",
    "def fator_pot(s):\n",
    "    \n",
    "    return s.real/abs(s)\n",
    "    "
   ]
  },
  {
   "cell_type": "code",
   "execution_count": 108,
   "id": "598d881c-dbdb-4e0b-abf9-25a1b51f5f1c",
   "metadata": {},
   "outputs": [
    {
     "name": "stdout",
     "output_type": "stream",
     "text": [
      "0.0021889479108998387 89.68645474286757\n",
      "0.3283421866349758 89.68645474286757\n"
     ]
    }
   ],
   "source": [
    "v1=20\n",
    "f=60\n",
    "rc=150\n",
    "k=0.1\n",
    "l1=2.25e-3\n",
    "l2=l1\n",
    "r1=5\n",
    "r2=r1\n",
    "i1=4\n",
    "w=2*pi*f\n",
    "xl1=imp_l(l1)\n",
    "xl2=imp_l(l2)\n",
    "M=k*sqrt(l1*l2)\n",
    "xm=1j*w*M*i1\n",
    "i2=xm/(xl2+r2+rc)\n",
    "abs(i2),degrees(phase(i2))\n",
    "formata_polar(i2)\n",
    "v2=i2*rc\n",
    "formata_polar(v2)"
   ]
  },
  {
   "cell_type": "markdown",
   "id": "bfd93ec9-fdf7-4388-bfc2-843e0e71b682",
   "metadata": {},
   "source": [
    "<h1>ANGULO </h1>\n",
    "\n",
    "<h2>Arco Seno, Arco Cosseno e Arco Tangente em <i>Radianos</i> </h2>"
   ]
  },
  {
   "cell_type": "code",
   "execution_count": 75,
   "id": "6a594586-cab8-4148-a918-e5a043e1095c",
   "metadata": {},
   "outputs": [],
   "source": [
    "def ang_sin_radian(ang):    \n",
    "    \n",
    "    angle=asin(ang)\n",
    "    \n",
    "    return angle\n",
    "\n",
    "def ang_cos_radian(ang):\n",
    "    \n",
    "    angle=acos(ang)\n",
    "    \n",
    "    return angle\n",
    "\n",
    "def ang_tg_radian(ang):\n",
    "    \n",
    "    angle=atg(ang)\n",
    "    \n",
    "    return angle"
   ]
  },
  {
   "cell_type": "code",
   "execution_count": 76,
   "id": "a15f088c-f2f7-48d7-aef1-9fa186ecc547",
   "metadata": {},
   "outputs": [
    {
     "data": {
      "text/plain": [
       "36.86989764584402"
      ]
     },
     "execution_count": 76,
     "metadata": {},
     "output_type": "execute_result"
    }
   ],
   "source": [
    "degrees(ang_sin_radian(0.6))"
   ]
  },
  {
   "cell_type": "code",
   "execution_count": null,
   "id": "68a8898b-7373-4126-a607-532e1df2086d",
   "metadata": {},
   "outputs": [],
   "source": []
  },
  {
   "cell_type": "code",
   "execution_count": null,
   "id": "ad2ffa42-a4b2-41fe-a043-26ff567b54e9",
   "metadata": {},
   "outputs": [],
   "source": []
  },
  {
   "cell_type": "code",
   "execution_count": null,
   "id": "d630a84a-e2c4-4547-a7b9-bd40cef3251a",
   "metadata": {},
   "outputs": [],
   "source": []
  }
 ],
 "metadata": {
  "kernelspec": {
   "display_name": "Python 3 (ipykernel)",
   "language": "python",
   "name": "python3"
  },
  "language_info": {
   "codemirror_mode": {
    "name": "ipython",
    "version": 3
   },
   "file_extension": ".py",
   "mimetype": "text/x-python",
   "name": "python",
   "nbconvert_exporter": "python",
   "pygments_lexer": "ipython3",
   "version": "3.9.7"
  }
 },
 "nbformat": 4,
 "nbformat_minor": 5
}
